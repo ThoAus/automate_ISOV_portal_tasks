{
 "cells": [
  {
   "cell_type": "code",
   "execution_count": 1,
   "id": "83a8bd38",
   "metadata": {},
   "outputs": [],
   "source": [
    "from selenium import webdriver\n",
    "from selenium.webdriver.common.by import By\n",
    "from selenium.webdriver.support.ui import WebDriverWait\n",
    "from selenium.webdriver.support import expected_conditions as EC\n",
    "from selenium.webdriver.common.keys import Keys\n",
    "\n",
    "import time"
   ]
  },
  {
   "cell_type": "code",
   "execution_count": 2,
   "id": "3d707128",
   "metadata": {},
   "outputs": [],
   "source": [
    "def start_browser_login_and_navigate_to_e_procurment():\n",
    "    # Start the session and open the website\n",
    "    driver = webdriver.Chrome()\n",
    "    driver.implicitly_wait(10)\n",
    "    driver.maximize_window()\n",
    "    driver.get(f'https://www.ausschreibungen-suedtirol.it/index/index/locale/de_DE')\n",
    "\n",
    "    # Click the login button and select CIE\n",
    "    driver.find_element(By.CSS_SELECTOR, '#submit-login').click()\n",
    "    driver.find_element(By.CSS_SELECTOR, 'div.row:nth-child(4) > div:nth-child(1) > div:nth-child(2) > div:nth-child(1) > footer:nth-child(3) > div:nth-child(2) > a:nth-child(1) > span:nth-child(2)').click()\n",
    "\n",
    "    # Wait until the QR code is scanned by the user\n",
    "    while True:\n",
    "        if driver.title != 'Informationsweitergabe':\n",
    "            time.sleep(1)\n",
    "        else:\n",
    "            driver.find_element(By.CSS_SELECTOR, '.btn-primary').click()\n",
    "            break\n",
    "\n",
    "    # Open the user profile dropdown\n",
    "    driver.find_element(By.CSS_SELECTOR, '.select2-selection__arrow').click()\n",
    "\n",
    "    # Select the user profile from the dropdown\n",
    "    option = WebDriverWait(driver, 10).until(\n",
    "        EC.element_to_be_clickable((By.XPATH, \"//li[contains(@class, 'select2-results__option') and contains(., 'Thomas Ausserer') and contains(., 'Ufficio contratti')]\"))\n",
    "    )\n",
    "    option.click()\n",
    "    driver.find_element(By.CSS_SELECTOR, '#companyButton').click()\n",
    "\n",
    "    # Navigate to e-procurement\n",
    "    driver.find_element(By.CSS_SELECTOR, '#header > ul.menu.mainMenu > li:nth-child(4) > a').click()\n",
    "\n",
    "    return driver\n",
    "\n",
    "\n",
    "def search_and_open(driver, search_key):\n",
    "    # Navigate to e-procurement\n",
    "    driver.find_element(By.CSS_SELECTOR, '#header > ul.menu.mainMenu > li:nth-child(4) > a').click()\n",
    "\n",
    "\n",
    "    field_search = driver.find_element(By.CSS_SELECTOR, '#keyword')\n",
    "\n",
    "    field_search.send_keys(search_key)\n",
    "    field_search.send_keys(Keys.RETURN)\n"
   ]
  },
  {
   "cell_type": "code",
   "execution_count": null,
   "id": "568cd84d",
   "metadata": {},
   "outputs": [],
   "source": [
    "driver = start_browser_login_and_navigate_to_e_procurment()\n",
    "search_and_open(driver, 'B7FF576181')"
   ]
  },
  {
   "cell_type": "code",
   "execution_count": null,
   "id": "0911994a",
   "metadata": {},
   "outputs": [],
   "source": []
  },
  {
   "cell_type": "code",
   "execution_count": null,
   "id": "c4c14496",
   "metadata": {},
   "outputs": [],
   "source": []
  },
  {
   "cell_type": "code",
   "execution_count": null,
   "id": "b01878af",
   "metadata": {},
   "outputs": [],
   "source": []
  }
 ],
 "metadata": {
  "kernelspec": {
   "display_name": ".venv (3.13.5)",
   "language": "python",
   "name": "python3"
  },
  "language_info": {
   "codemirror_mode": {
    "name": "ipython",
    "version": 3
   },
   "file_extension": ".py",
   "mimetype": "text/x-python",
   "name": "python",
   "nbconvert_exporter": "python",
   "pygments_lexer": "ipython3",
   "version": "3.13.5"
  }
 },
 "nbformat": 4,
 "nbformat_minor": 5
}
